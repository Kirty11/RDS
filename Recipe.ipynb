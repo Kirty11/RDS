{
 "cells": [
  {
   "cell_type": "code",
   "execution_count": 3,
   "metadata": {},
   "outputs": [
    {
     "name": "stdout",
     "output_type": "stream",
     "text": [
      "Collecting psycopg2\n",
      "  Downloading https://files.pythonhosted.org/packages/1a/85/853f11abfccfd581b099e5ae5f2dd807cc2919745b13d14e565022fd821c/psycopg2-2.8.4-cp37-cp37m-win_amd64.whl (1.1MB)\n",
      "Installing collected packages: psycopg2\n",
      "Successfully installed psycopg2-2.8.4\n",
      "Note: you may need to restart the kernel to use updated packages.\n"
     ]
    }
   ],
   "source": [
    "pip install psycopg2\n"
   ]
  },
  {
   "cell_type": "code",
   "execution_count": 1,
   "metadata": {},
   "outputs": [],
   "source": [
    "import psycopg2 \n",
    "from psycopg2.extras import execute_values\n",
    "import pandas as pd"
   ]
  },
  {
   "cell_type": "code",
   "execution_count": 2,
   "metadata": {},
   "outputs": [],
   "source": [
    "conn = psycopg2.connect(host = 'database-2.cnvl9hnkloyz.us-east-2.rds.amazonaws.com',user ='postgres',password='shyambaba',database='postgres')\n",
    "mycursor = conn.cursor()\n",
    "conn.set_session(autocommit = True)"
   ]
  },
  {
   "cell_type": "code",
   "execution_count": 3,
   "metadata": {},
   "outputs": [
    {
     "data": {
      "text/html": [
       "<div>\n",
       "<style scoped>\n",
       "    .dataframe tbody tr th:only-of-type {\n",
       "        vertical-align: middle;\n",
       "    }\n",
       "\n",
       "    .dataframe tbody tr th {\n",
       "        vertical-align: top;\n",
       "    }\n",
       "\n",
       "    .dataframe thead th {\n",
       "        text-align: right;\n",
       "    }\n",
       "</style>\n",
       "<table border=\"1\" class=\"dataframe\">\n",
       "  <thead>\n",
       "    <tr style=\"text-align: right;\">\n",
       "      <th></th>\n",
       "      <th>id</th>\n",
       "      <th>cuisine</th>\n",
       "      <th>ingredients</th>\n",
       "    </tr>\n",
       "  </thead>\n",
       "  <tbody>\n",
       "    <tr>\n",
       "      <td>0</td>\n",
       "      <td>10259</td>\n",
       "      <td>greek</td>\n",
       "      <td>[romaine lettuce, black olives, grape tomatoes...</td>\n",
       "    </tr>\n",
       "    <tr>\n",
       "      <td>1</td>\n",
       "      <td>25693</td>\n",
       "      <td>southern_us</td>\n",
       "      <td>[plain flour, ground pepper, salt, tomatoes, g...</td>\n",
       "    </tr>\n",
       "  </tbody>\n",
       "</table>\n",
       "</div>"
      ],
      "text/plain": [
       "      id      cuisine                                        ingredients\n",
       "0  10259        greek  [romaine lettuce, black olives, grape tomatoes...\n",
       "1  25693  southern_us  [plain flour, ground pepper, salt, tomatoes, g..."
      ]
     },
     "execution_count": 3,
     "metadata": {},
     "output_type": "execute_result"
    }
   ],
   "source": [
    "data = pd.read_json(\"train.json.zip\")\n",
    "data.head(2)"
   ]
  },
  {
   "cell_type": "code",
   "execution_count": 13,
   "metadata": {},
   "outputs": [],
   "source": [
    "#Create table for dishes\n",
    "\n",
    "query1 =\"CREATE TABLE dishes (dish_id INT,cuisine_id INT,PRIMARY KEY (dish_id))\"\n",
    "mycursor.execute(query1)\n"
   ]
  },
  {
   "cell_type": "code",
   "execution_count": 10,
   "metadata": {},
   "outputs": [
    {
     "name": "stderr",
     "output_type": "stream",
     "text": [
      "C:\\Users\\KIRTY\\Anaconda3\\lib\\site-packages\\ipykernel_launcher.py:4: SettingWithCopyWarning: \n",
      "A value is trying to be set on a copy of a slice from a DataFrame\n",
      "\n",
      "See the caveats in the documentation: http://pandas.pydata.org/pandas-docs/stable/user_guide/indexing.html#returning-a-view-versus-a-copy\n",
      "  after removing the cwd from sys.path.\n"
     ]
    }
   ],
   "source": [
    "#Inserting data into dishes\n",
    "\n",
    "data1= data[['cuisine']]\n",
    "data1.drop_duplicates(subset='cuisine',inplace=True)\n",
    "data1 = data1.reset_index(drop = True).reset_index()\n",
    "datanew = data[['id','cuisine']]#dataframe\n",
    "\n",
    "#DataFrame for dishes \n",
    "table1 = datanew.replace(to_replace=list(data1['cuisine']),value =list(data1['index'])) \n",
    "l1= list(zip(table1['id'],table1['cuisine']))#creating list\n",
    "\n",
    "execute_values(mycursor,\"INSERT INTO dishes (dish_id,cuisine_id) VALUES %s\",l1)"
   ]
  },
  {
   "cell_type": "code",
   "execution_count": 26,
   "metadata": {},
   "outputs": [],
   "source": [
    "#Create table for Cuisine\n",
    "query2 =\"CREATE TABLE Cuisine (cuisine_id INT PRIMARY KEY,cuisine_name VARCHAR(40))\"\n",
    "mycursor.execute(query2)"
   ]
  },
  {
   "cell_type": "code",
   "execution_count": 11,
   "metadata": {},
   "outputs": [],
   "source": [
    "#Insert values into Cuisine\n",
    "l2= list(zip(data1['index'],data1['cuisine'])) #creating list\n",
    "\n",
    "execute_values(mycursor, \"INSERT INTO Cuisine (cuisine_id,cuisine_name) VALUES %s\",l2)"
   ]
  },
  {
   "cell_type": "code",
   "execution_count": 28,
   "metadata": {},
   "outputs": [],
   "source": [
    "#Create table for Ingredients\n",
    "\n",
    "query3 =\"CREATE TABLE Ingredients (ingred_id INT PRIMARY KEY,ingred_name VARCHAR)\"\n",
    "mycursor.execute(query3)"
   ]
  },
  {
   "cell_type": "code",
   "execution_count": 19,
   "metadata": {},
   "outputs": [],
   "source": [
    "#Inserting values into INgredients\n",
    "\n",
    "e= data.explode('ingredients')\n",
    "e.drop_duplicates(subset='ingredients',inplace=True)\n",
    "data2 =pd.DataFrame(e['ingredients']).reset_index(drop=True).reset_index()\n",
    "l3 = list(zip(data2['index'],data2['ingredients'])) #creating list\n",
    "execute_values(mycursor,\"INSERT INTO Ingredients (ingred_id,ingred_name) VALUES %s\",l3)"
   ]
  },
  {
   "cell_type": "code",
   "execution_count": 31,
   "metadata": {},
   "outputs": [],
   "source": [
    "#Create table for Recipe\n",
    "query3 =\"CREATE TABLE Recipe (r_id INT , dish_id INT, ingred_id INT)\"\n",
    "mycursor.execute(query3)"
   ]
  },
  {
   "cell_type": "code",
   "execution_count": 14,
   "metadata": {},
   "outputs": [],
   "source": [
    "#Inserting values into Recipe\n",
    "cuisine = list(data1['cuisine'])\n",
    "cuisine_id =list(data1['index'])\n",
    "ingredients=list(data2['ingredients'])\n",
    "ingred_id =list(data2['index'])\n",
    "\n",
    "table2 =data.explode('ingredients').replace(to_replace=cuisine,value =cuisine_id)#assigning id to cuisine\n",
    "table3 = table2['ingredients'].replace(to_replace=ingredients,value =ingred_id)#assigning id to ingredients\n",
    "df=[table2[['id','cuisine']],table3]#creating dataframe\n",
    "res = pd.concat(df,axis=1)\n",
    "res.reset_index(inplace=True)\n",
    "\n"
   ]
  },
  {
   "cell_type": "code",
   "execution_count": 15,
   "metadata": {},
   "outputs": [],
   "source": [
    "l4 =res[['index','id','ingredients']]\n",
    "l5=list(zip(*map(l4.get,l4)))#creating list\n",
    "execute_values(mycursor,\"INSERT INTO Recipe (r_id, dish_id, ingred_id) VALUES %s\",l5)"
   ]
  },
  {
   "cell_type": "code",
   "execution_count": 18,
   "metadata": {},
   "outputs": [],
   "source": []
  },
  {
   "cell_type": "code",
   "execution_count": null,
   "metadata": {},
   "outputs": [],
   "source": []
  }
 ],
 "metadata": {
  "kernelspec": {
   "display_name": "Python 3",
   "language": "python",
   "name": "python3"
  },
  "language_info": {
   "codemirror_mode": {
    "name": "ipython",
    "version": 3
   },
   "file_extension": ".py",
   "mimetype": "text/x-python",
   "name": "python",
   "nbconvert_exporter": "python",
   "pygments_lexer": "ipython3",
   "version": "3.7.4"
  }
 },
 "nbformat": 4,
 "nbformat_minor": 2
}
